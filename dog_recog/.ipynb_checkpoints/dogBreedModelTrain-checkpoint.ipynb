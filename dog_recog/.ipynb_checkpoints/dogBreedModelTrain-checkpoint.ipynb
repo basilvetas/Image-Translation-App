{
 "cells": [
  {
   "cell_type": "code",
   "execution_count": 10,
   "metadata": {
    "collapsed": false
   },
   "outputs": [
    {
     "name": "stdout",
     "output_type": "stream",
     "text": [
      "Chihuahua\n",
      "Japanese_spaniel\n",
      "Maltese_dog\n",
      "Pekinese\n",
      "Shih-Tzu\n"
     ]
    }
   ],
   "source": [
    "from clarifai.rest import ClarifaiApp\n",
    "from clarifai.rest import Image as ClImage\n",
    "from glob import glob\n",
    "import os\n",
    "import re\n",
    "\n",
    "app = ClarifaiApp(api_key='c5c78def8d574935aebbfd8da2c22ed3')\n",
    "\n",
    "data_dir = \"/Users/laohuang/Downloads/dog_images/\"\n",
    "\n",
    "imgs = []\n",
    "dogTypes = []\n",
    "\n",
    "for path in os.listdir(data_dir)[1:]:\n",
    "    path = data_dir + path + \"/*\"\n",
    "    dogType = re.search('[0-9]-(.+?)/', path).group(1)\n",
    "    dogTypes.append(dogType)\n",
    "    print(dogType)\n",
    "    if len(dogTypes) == 5: break\n",
    "    for file in glob(path):\n",
    "\n",
    "        img = ClImage(filename=file, concepts=[dogType])\n",
    "        imgs.append(img)\n",
    "        \n",
    "        if len(imgs) == 128:\n",
    "            app.inputs.bulk_create_images(imgs)\n",
    "            imgs = []\n",
    "\n",
    "    app.inputs.bulk_create_images(imgs)"
   ]
  },
  {
   "cell_type": "code",
   "execution_count": 18,
   "metadata": {
    "collapsed": false
   },
   "outputs": [
    {
     "name": "stdout",
     "output_type": "stream",
     "text": [
      "['Chihuahua', 'Japanese_spaniel', 'Maltese_dog', 'Pekinese', 'Shih-Tzu']\n"
     ]
    },
    {
     "data": {
      "text/plain": [
       "<clarifai.rest.client.Model at 0x1052d8f28>"
      ]
     },
     "execution_count": 18,
     "metadata": {},
     "output_type": "execute_result"
    }
   ],
   "source": [
    "print(dogTypes)\n",
    "app = ClarifaiApp(api_key='c5c78def8d574935aebbfd8da2c22ed3')\n",
    "#model = app.models.create(model_id=\"dogBreeds\", concepts=dogTypes)\n",
    "model = app.models.get('dogBreeds')\n",
    "model.train()"
   ]
  },
  {
   "cell_type": "code",
   "execution_count": 19,
   "metadata": {
    "collapsed": false
   },
   "outputs": [
    {
     "data": {
      "text/plain": [
       "{'outputs': [{'created_at': '2017-12-08T00:18:58.426281957Z',\n",
       "   'data': {'concepts': [{'app_id': 'ee1a437df6654736938e1ebbdc1d1396',\n",
       "      'id': 'Chihuahua',\n",
       "      'name': 'Chihuahua',\n",
       "      'value': 0.99704844},\n",
       "     {'app_id': 'ee1a437df6654736938e1ebbdc1d1396',\n",
       "      'id': 'Maltese_dog',\n",
       "      'name': 'Maltese_dog',\n",
       "      'value': 0.0012327419},\n",
       "     {'app_id': 'ee1a437df6654736938e1ebbdc1d1396',\n",
       "      'id': 'Japanese_spaniel',\n",
       "      'name': 'Japanese_spaniel',\n",
       "      'value': 0.00027779673},\n",
       "     {'app_id': 'ee1a437df6654736938e1ebbdc1d1396',\n",
       "      'id': 'Pekinese',\n",
       "      'name': 'Pekinese',\n",
       "      'value': 6.98819e-05}]},\n",
       "   'id': 'fc5dc87cafd340f495681de2287bfeef',\n",
       "   'input': {'data': {'image': {'url': 'http://cdn1-www.dogtime.com/assets/uploads/gallery/chihuahua-dog-breed-pictures/10-face.jpg'}},\n",
       "    'id': 'a2335fcad453447590448616533ce19d'},\n",
       "   'model': {'app_id': 'ee1a437df6654736938e1ebbdc1d1396',\n",
       "    'created_at': '2017-12-08T00:05:14.283813Z',\n",
       "    'id': 'dogBreeds',\n",
       "    'model_version': {'created_at': '2017-12-08T00:18:42.445936Z',\n",
       "     'id': 'c95781a57dba4d98adfb5007c0568ac6',\n",
       "     'status': {'code': 21100, 'description': 'Model trained successfully'},\n",
       "     'total_input_count': 920},\n",
       "    'name': 'dogBreeds',\n",
       "    'output_info': {'message': 'Show output_info with: GET /models/{model_id}/output_info',\n",
       "     'output_config': {'closed_environment': False,\n",
       "      'concepts_mutually_exclusive': False},\n",
       "     'type': 'concept',\n",
       "     'type_ext': 'concept'}},\n",
       "   'status': {'code': 10000, 'description': 'Ok'}}],\n",
       " 'status': {'code': 10000, 'description': 'Ok'}}"
      ]
     },
     "execution_count": 19,
     "metadata": {},
     "output_type": "execute_result"
    }
   ],
   "source": [
    "model.predict_by_url('http://cdn1-www.dogtime.com/assets/uploads/gallery/chihuahua-dog-breed-pictures/10-face.jpg')"
   ]
  },
  {
   "cell_type": "code",
   "execution_count": null,
   "metadata": {
    "collapsed": true
   },
   "outputs": [],
   "source": []
  }
 ],
 "metadata": {
  "kernelspec": {
   "display_name": "Python [py35]",
   "language": "python",
   "name": "Python [py35]"
  },
  "language_info": {
   "codemirror_mode": {
    "name": "ipython",
    "version": 3
   },
   "file_extension": ".py",
   "mimetype": "text/x-python",
   "name": "python",
   "nbconvert_exporter": "python",
   "pygments_lexer": "ipython3",
   "version": "3.5.2"
  }
 },
 "nbformat": 4,
 "nbformat_minor": 0
}
